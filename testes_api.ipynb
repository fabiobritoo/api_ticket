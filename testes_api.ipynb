{
 "cells": [
  {
   "cell_type": "code",
   "execution_count": 1,
   "metadata": {},
   "outputs": [
    {
     "name": "stdout",
     "output_type": "stream",
     "text": [
      "Connecting to the PostgreSQL database...\n",
      "PostgreSQL database version:\n",
      "('PostgreSQL 14.5 on x86_64-pc-linux-gnu, compiled by gcc (GCC) 4.8.5 20150623 (Red Hat 4.8.5-44), 64-bit',)\n"
     ]
    }
   ],
   "source": [
    "from db.connect import connect\n",
    "con = connect()"
   ]
  },
  {
   "cell_type": "code",
   "execution_count": 7,
   "metadata": {},
   "outputs": [],
   "source": [
    "import pandas as pd\n",
    "import warnings\n",
    "warnings.filterwarnings(\"ignore\")\n",
    "\n",
    "df = pd.read_sql_query('select * from \"atendimentos\"',con=con)\n",
    "tipo = 'SP'\n",
    "ultimo_registro = df[df[\"tipo_senha\"] == tipo]"
   ]
  },
  {
   "cell_type": "code",
   "execution_count": 9,
   "metadata": {},
   "outputs": [
    {
     "data": {
      "text/html": [
       "<div>\n",
       "<style scoped>\n",
       "    .dataframe tbody tr th:only-of-type {\n",
       "        vertical-align: middle;\n",
       "    }\n",
       "\n",
       "    .dataframe tbody tr th {\n",
       "        vertical-align: top;\n",
       "    }\n",
       "\n",
       "    .dataframe thead th {\n",
       "        text-align: right;\n",
       "    }\n",
       "</style>\n",
       "<table border=\"1\" class=\"dataframe\">\n",
       "  <thead>\n",
       "    <tr style=\"text-align: right;\">\n",
       "      <th></th>\n",
       "      <th>id</th>\n",
       "      <th>tipo_senha</th>\n",
       "      <th>numeracao</th>\n",
       "      <th>codigo_senha</th>\n",
       "      <th>data_emissao</th>\n",
       "      <th>guiche</th>\n",
       "      <th>data_atendimento</th>\n",
       "    </tr>\n",
       "  </thead>\n",
       "  <tbody>\n",
       "    <tr>\n",
       "      <th>2</th>\n",
       "      <td>26</td>\n",
       "      <td>SP</td>\n",
       "      <td>9</td>\n",
       "      <td>SP009</td>\n",
       "      <td>2022-09-06 08:44:17.792000</td>\n",
       "      <td>2.0</td>\n",
       "      <td>2022-09-06 09:07:33.401000</td>\n",
       "    </tr>\n",
       "    <tr>\n",
       "      <th>4</th>\n",
       "      <td>32</td>\n",
       "      <td>SP</td>\n",
       "      <td>5</td>\n",
       "      <td>SP005</td>\n",
       "      <td>2022-09-06 09:55:34.518000</td>\n",
       "      <td>5.0</td>\n",
       "      <td>2022-09-06 10:07:40.222000</td>\n",
       "    </tr>\n",
       "    <tr>\n",
       "      <th>1</th>\n",
       "      <td>25</td>\n",
       "      <td>SP</td>\n",
       "      <td>8</td>\n",
       "      <td>SP008</td>\n",
       "      <td>2022-09-06 11:43:22.651000</td>\n",
       "      <td>1.0</td>\n",
       "      <td>2022-09-06 12:07:26.636000</td>\n",
       "    </tr>\n",
       "    <tr>\n",
       "      <th>7</th>\n",
       "      <td>23</td>\n",
       "      <td>SP</td>\n",
       "      <td>6</td>\n",
       "      <td>SP006</td>\n",
       "      <td>2022-09-06 12:41:44.712000</td>\n",
       "      <td>2.0</td>\n",
       "      <td>2022-09-06 12:45:36.857000</td>\n",
       "    </tr>\n",
       "    <tr>\n",
       "      <th>6</th>\n",
       "      <td>22</td>\n",
       "      <td>SP</td>\n",
       "      <td>5</td>\n",
       "      <td>SP005</td>\n",
       "      <td>2022-09-06 13:41:42.311000</td>\n",
       "      <td>2.0</td>\n",
       "      <td>2022-09-06 13:44:43.830000</td>\n",
       "    </tr>\n",
       "    <tr>\n",
       "      <th>0</th>\n",
       "      <td>24</td>\n",
       "      <td>SP</td>\n",
       "      <td>7</td>\n",
       "      <td>SP007</td>\n",
       "      <td>2022-09-06 16:41:47.444000</td>\n",
       "      <td>1.0</td>\n",
       "      <td>2022-09-06 17:07:19.874000</td>\n",
       "    </tr>\n",
       "    <tr>\n",
       "      <th>32</th>\n",
       "      <td>15</td>\n",
       "      <td>SP</td>\n",
       "      <td>1</td>\n",
       "      <td>SP001</td>\n",
       "      <td>2022-09-07 10:12:53.247000</td>\n",
       "      <td>2.0</td>\n",
       "      <td>2022-09-07 10:13:03.630000</td>\n",
       "    </tr>\n",
       "    <tr>\n",
       "      <th>34</th>\n",
       "      <td>33</td>\n",
       "      <td>SP</td>\n",
       "      <td>1</td>\n",
       "      <td>SP001</td>\n",
       "      <td>2022-09-07 10:43:47.199000</td>\n",
       "      <td>1.0</td>\n",
       "      <td>2022-09-07 10:48:51.257000</td>\n",
       "    </tr>\n",
       "    <tr>\n",
       "      <th>35</th>\n",
       "      <td>21</td>\n",
       "      <td>SP</td>\n",
       "      <td>4</td>\n",
       "      <td>SP004</td>\n",
       "      <td>2022-09-07 11:30:33.132000</td>\n",
       "      <td>1.0</td>\n",
       "      <td>2022-09-07 11:51:08.919000</td>\n",
       "    </tr>\n",
       "    <tr>\n",
       "      <th>36</th>\n",
       "      <td>18</td>\n",
       "      <td>SP</td>\n",
       "      <td>1</td>\n",
       "      <td>SP001</td>\n",
       "      <td>2022-09-07 12:23:13.167000</td>\n",
       "      <td>2.0</td>\n",
       "      <td>2022-09-07 12:50:28.798000</td>\n",
       "    </tr>\n",
       "    <tr>\n",
       "      <th>37</th>\n",
       "      <td>16</td>\n",
       "      <td>SP</td>\n",
       "      <td>1</td>\n",
       "      <td>SP001</td>\n",
       "      <td>2022-09-07 13:23:08.893000</td>\n",
       "      <td>2.0</td>\n",
       "      <td>2022-09-07 13:50:21.533000</td>\n",
       "    </tr>\n",
       "    <tr>\n",
       "      <th>39</th>\n",
       "      <td>19</td>\n",
       "      <td>SP</td>\n",
       "      <td>2</td>\n",
       "      <td>SP002</td>\n",
       "      <td>2022-09-07 15:30:29.742000</td>\n",
       "      <td>2.0</td>\n",
       "      <td>2022-09-07 15:50:35.747000</td>\n",
       "    </tr>\n",
       "    <tr>\n",
       "      <th>40</th>\n",
       "      <td>17</td>\n",
       "      <td>SP</td>\n",
       "      <td>1</td>\n",
       "      <td>SP001</td>\n",
       "      <td>2022-09-07 16:23:11.125000</td>\n",
       "      <td>2.0</td>\n",
       "      <td>2022-09-07 16:50:25.045000</td>\n",
       "    </tr>\n",
       "    <tr>\n",
       "      <th>41</th>\n",
       "      <td>20</td>\n",
       "      <td>SP</td>\n",
       "      <td>3</td>\n",
       "      <td>SP003</td>\n",
       "      <td>2022-09-07 17:30:31.450000</td>\n",
       "      <td>3.0</td>\n",
       "      <td>2022-09-07 17:51:02.753000</td>\n",
       "    </tr>\n",
       "    <tr>\n",
       "      <th>15</th>\n",
       "      <td>35</td>\n",
       "      <td>SP</td>\n",
       "      <td>1</td>\n",
       "      <td>SP001</td>\n",
       "      <td>2022-09-08 09:48:21.147295</td>\n",
       "      <td>2.0</td>\n",
       "      <td>2022-09-08 10:32:53.827000</td>\n",
       "    </tr>\n",
       "    <tr>\n",
       "      <th>17</th>\n",
       "      <td>38</td>\n",
       "      <td>SP</td>\n",
       "      <td>1</td>\n",
       "      <td>SP001</td>\n",
       "      <td>2022-09-08 11:05:07.048888</td>\n",
       "      <td>2.0</td>\n",
       "      <td>2022-09-08 11:32:58.283000</td>\n",
       "    </tr>\n",
       "    <tr>\n",
       "      <th>21</th>\n",
       "      <td>42</td>\n",
       "      <td>SP</td>\n",
       "      <td>1</td>\n",
       "      <td>SP001</td>\n",
       "      <td>2022-09-08 11:10:05.284007</td>\n",
       "      <td>2.0</td>\n",
       "      <td>2022-09-08 11:33:01.664000</td>\n",
       "    </tr>\n",
       "    <tr>\n",
       "      <th>23</th>\n",
       "      <td>43</td>\n",
       "      <td>SP</td>\n",
       "      <td>1</td>\n",
       "      <td>SP001</td>\n",
       "      <td>2022-09-08 11:10:25.127403</td>\n",
       "      <td>2.0</td>\n",
       "      <td>2022-09-08 11:33:05.045000</td>\n",
       "    </tr>\n",
       "    <tr>\n",
       "      <th>25</th>\n",
       "      <td>45</td>\n",
       "      <td>SP</td>\n",
       "      <td>2</td>\n",
       "      <td>SP002</td>\n",
       "      <td>2022-09-08 11:31:02.698029</td>\n",
       "      <td>2.0</td>\n",
       "      <td>2022-09-08 11:33:08.647000</td>\n",
       "    </tr>\n",
       "    <tr>\n",
       "      <th>27</th>\n",
       "      <td>46</td>\n",
       "      <td>SP</td>\n",
       "      <td>3</td>\n",
       "      <td>SP003</td>\n",
       "      <td>2022-09-08 11:31:19.495886</td>\n",
       "      <td>2.0</td>\n",
       "      <td>2022-09-08 11:33:12.270000</td>\n",
       "    </tr>\n",
       "    <tr>\n",
       "      <th>29</th>\n",
       "      <td>47</td>\n",
       "      <td>SP</td>\n",
       "      <td>4</td>\n",
       "      <td>SP004</td>\n",
       "      <td>2022-09-08 11:54:40.133252</td>\n",
       "      <td>2.0</td>\n",
       "      <td>2022-09-08 12:33:15.721000</td>\n",
       "    </tr>\n",
       "    <tr>\n",
       "      <th>42</th>\n",
       "      <td>56</td>\n",
       "      <td>SP</td>\n",
       "      <td>1</td>\n",
       "      <td>SP001</td>\n",
       "      <td>2022-09-09 08:42:57.762478</td>\n",
       "      <td>1.0</td>\n",
       "      <td>2022-09-09 08:43:56.163983</td>\n",
       "    </tr>\n",
       "    <tr>\n",
       "      <th>18</th>\n",
       "      <td>88</td>\n",
       "      <td>SP</td>\n",
       "      <td>1</td>\n",
       "      <td>SP001</td>\n",
       "      <td>2022-09-12 11:39:16.448349</td>\n",
       "      <td>NaN</td>\n",
       "      <td>NaT</td>\n",
       "    </tr>\n",
       "    <tr>\n",
       "      <th>20</th>\n",
       "      <td>89</td>\n",
       "      <td>SP</td>\n",
       "      <td>1</td>\n",
       "      <td>SP001</td>\n",
       "      <td>2022-09-12 11:39:36.192596</td>\n",
       "      <td>NaN</td>\n",
       "      <td>NaT</td>\n",
       "    </tr>\n",
       "  </tbody>\n",
       "</table>\n",
       "</div>"
      ],
      "text/plain": [
       "    id tipo_senha  numeracao codigo_senha               data_emissao  guiche  \\\n",
       "2   26         SP          9        SP009 2022-09-06 08:44:17.792000     2.0   \n",
       "4   32         SP          5        SP005 2022-09-06 09:55:34.518000     5.0   \n",
       "1   25         SP          8        SP008 2022-09-06 11:43:22.651000     1.0   \n",
       "7   23         SP          6        SP006 2022-09-06 12:41:44.712000     2.0   \n",
       "6   22         SP          5        SP005 2022-09-06 13:41:42.311000     2.0   \n",
       "0   24         SP          7        SP007 2022-09-06 16:41:47.444000     1.0   \n",
       "32  15         SP          1        SP001 2022-09-07 10:12:53.247000     2.0   \n",
       "34  33         SP          1        SP001 2022-09-07 10:43:47.199000     1.0   \n",
       "35  21         SP          4        SP004 2022-09-07 11:30:33.132000     1.0   \n",
       "36  18         SP          1        SP001 2022-09-07 12:23:13.167000     2.0   \n",
       "37  16         SP          1        SP001 2022-09-07 13:23:08.893000     2.0   \n",
       "39  19         SP          2        SP002 2022-09-07 15:30:29.742000     2.0   \n",
       "40  17         SP          1        SP001 2022-09-07 16:23:11.125000     2.0   \n",
       "41  20         SP          3        SP003 2022-09-07 17:30:31.450000     3.0   \n",
       "15  35         SP          1        SP001 2022-09-08 09:48:21.147295     2.0   \n",
       "17  38         SP          1        SP001 2022-09-08 11:05:07.048888     2.0   \n",
       "21  42         SP          1        SP001 2022-09-08 11:10:05.284007     2.0   \n",
       "23  43         SP          1        SP001 2022-09-08 11:10:25.127403     2.0   \n",
       "25  45         SP          2        SP002 2022-09-08 11:31:02.698029     2.0   \n",
       "27  46         SP          3        SP003 2022-09-08 11:31:19.495886     2.0   \n",
       "29  47         SP          4        SP004 2022-09-08 11:54:40.133252     2.0   \n",
       "42  56         SP          1        SP001 2022-09-09 08:42:57.762478     1.0   \n",
       "18  88         SP          1        SP001 2022-09-12 11:39:16.448349     NaN   \n",
       "20  89         SP          1        SP001 2022-09-12 11:39:36.192596     NaN   \n",
       "\n",
       "             data_atendimento  \n",
       "2  2022-09-06 09:07:33.401000  \n",
       "4  2022-09-06 10:07:40.222000  \n",
       "1  2022-09-06 12:07:26.636000  \n",
       "7  2022-09-06 12:45:36.857000  \n",
       "6  2022-09-06 13:44:43.830000  \n",
       "0  2022-09-06 17:07:19.874000  \n",
       "32 2022-09-07 10:13:03.630000  \n",
       "34 2022-09-07 10:48:51.257000  \n",
       "35 2022-09-07 11:51:08.919000  \n",
       "36 2022-09-07 12:50:28.798000  \n",
       "37 2022-09-07 13:50:21.533000  \n",
       "39 2022-09-07 15:50:35.747000  \n",
       "40 2022-09-07 16:50:25.045000  \n",
       "41 2022-09-07 17:51:02.753000  \n",
       "15 2022-09-08 10:32:53.827000  \n",
       "17 2022-09-08 11:32:58.283000  \n",
       "21 2022-09-08 11:33:01.664000  \n",
       "23 2022-09-08 11:33:05.045000  \n",
       "25 2022-09-08 11:33:08.647000  \n",
       "27 2022-09-08 11:33:12.270000  \n",
       "29 2022-09-08 12:33:15.721000  \n",
       "42 2022-09-09 08:43:56.163983  \n",
       "18                        NaT  \n",
       "20                        NaT  "
      ]
     },
     "execution_count": 9,
     "metadata": {},
     "output_type": "execute_result"
    }
   ],
   "source": [
    "ultimo_registro = ultimo_registro.sort_values(by = \"data_emissao\")"
   ]
  },
  {
   "cell_type": "code",
   "execution_count": 10,
   "metadata": {},
   "outputs": [
    {
     "data": {
      "text/plain": [
       "numpy.datetime64('2022-09-07T01:12:53.247825000')"
      ]
     },
     "execution_count": 10,
     "metadata": {},
     "output_type": "execute_result"
    }
   ],
   "source": [
    "import pandas as pd\n",
    "import warnings\n",
    "warnings.filterwarnings(\"ignore\")\n",
    "\n",
    "df = pd.read_sql_query('select * from \"atendimentos\"',con=con)\n",
    "ultimo_registro = df[df[\"tipo_senha\"] == \"SP\"].tail(1)\n",
    "ultimo_registro\n",
    "data_ultimo_registro = pd.to_datetime(ultimo_registro[\"data_emissao\"]).values[0]\n",
    "data_ultimo_registro"
   ]
  },
  {
   "cell_type": "code",
   "execution_count": 19,
   "metadata": {},
   "outputs": [
    {
     "data": {
      "text/plain": [
       "Timestamp('2022-09-07 01:12:53.247825+0000', tz='UTC')"
      ]
     },
     "execution_count": 19,
     "metadata": {},
     "output_type": "execute_result"
    }
   ],
   "source": [
    "from datetime import datetime, timedelta"
   ]
  },
  {
   "cell_type": "code",
   "execution_count": 30,
   "metadata": {},
   "outputs": [
    {
     "data": {
      "text/plain": [
       "Timestamp('2022-09-06 22:12:53.247825-0300', tz='America/Recife')"
      ]
     },
     "execution_count": 30,
     "metadata": {},
     "output_type": "execute_result"
    }
   ],
   "source": [
    "pd.Timestamp(data_ultimo_registro).replace(tzinfo=datetime.timezone.utc).astimezone(pytz.timezone('America/Recife'))"
   ]
  },
  {
   "cell_type": "code",
   "execution_count": 26,
   "metadata": {},
   "outputs": [],
   "source": [
    "import pytz"
   ]
  },
  {
   "cell_type": "code",
   "execution_count": 32,
   "metadata": {},
   "outputs": [
    {
     "data": {
      "text/plain": [
       "datetime.datetime(2022, 9, 6, 22, 40, 47, 614611, tzinfo=<DstTzInfo 'America/Recife' -03-1 day, 21:00:00 STD>)"
      ]
     },
     "execution_count": 32,
     "metadata": {},
     "output_type": "execute_result"
    }
   ],
   "source": [
    "datetime.datetime.now(pytz.timezone('America/Recife'))"
   ]
  },
  {
   "cell_type": "code",
   "execution_count": 12,
   "metadata": {},
   "outputs": [
    {
     "data": {
      "text/plain": [
       "Timestamp('2022-09-07 07:00:00+0000', tz='UTC')"
      ]
     },
     "execution_count": 12,
     "metadata": {},
     "output_type": "execute_result"
    }
   ],
   "source": [
    "pd.to_datetime(datetime.datetime.now(datetime.timezone.utc).replace(hour = 7, minute = 0, second = 0, microsecond = 0))"
   ]
  },
  {
   "cell_type": "code",
   "execution_count": 3,
   "metadata": {},
   "outputs": [
    {
     "name": "stderr",
     "output_type": "stream",
     "text": [
      "100%|██████████| 10/10 [00:16<00:00,  1.67s/it]\n"
     ]
    }
   ],
   "source": [
    "import requests\n",
    "import random\n",
    "import time\n",
    "import tqdm\n",
    "\n",
    "env = ['http://localhost:8000/', 'https://ticketprint.herokuapp.com/']\n",
    "\n",
    "env = env[1]\n",
    "\n",
    "opcoes = ['SG','SP','SE']\n",
    "\n",
    "for i in tqdm.tqdm(range(0,10)):\n",
    "    index = random.randint(0,2)\n",
    "    url = env + \"senha/\" + opcoes[index]\n",
    "    r = requests.get(url)\n",
    "    time.sleep(index)"
   ]
  },
  {
   "cell_type": "code",
   "execution_count": null,
   "metadata": {},
   "outputs": [],
   "source": []
  },
  {
   "cell_type": "code",
   "execution_count": 1,
   "metadata": {},
   "outputs": [
    {
     "name": "stdout",
     "output_type": "stream",
     "text": [
      "{'senha': 'SE001', 'data_atendimento': '06/09/2022, 23:07:16', 'guiche': '5'}\n",
      "{'senha': 'SP007', 'data_atendimento': '06/09/2022, 23:07:20', 'guiche': '1'}\n",
      "{'senha': 'SE002', 'data_atendimento': '06/09/2022, 23:07:23', 'guiche': '3'}\n",
      "{'senha': 'SP008', 'data_atendimento': '06/09/2022, 23:07:26', 'guiche': '1'}\n",
      "{'senha': 'SE003', 'data_atendimento': '06/09/2022, 23:07:30', 'guiche': '1'}\n",
      "{'senha': 'SP009', 'data_atendimento': '06/09/2022, 23:07:33', 'guiche': '2'}\n",
      "{'senha': 'SE004', 'data_atendimento': '06/09/2022, 23:07:37', 'guiche': '2'}\n",
      "{'senha': 'SP005', 'data_atendimento': '06/09/2022, 23:07:40', 'guiche': '5'}\n",
      "{'senha': 'SE005', 'data_atendimento': '06/09/2022, 23:07:43', 'guiche': '5'}\n",
      "{'senha': 'Não há senhas a serem chamadas'}\n",
      "{'senha': 'Não há senhas a serem chamadas'}\n"
     ]
    }
   ],
   "source": [
    "import requests\n",
    "import random\n",
    "import time\n",
    "import tqdm\n",
    "\n",
    "env = ['http://localhost:8000/', 'https://ticketprint.herokuapp.com/']\n",
    "\n",
    "env = env[1]\n",
    "\n",
    "for i in range(0,11):\n",
    "    guiche = random.randint(1,5)\n",
    "    url = env + \"chamada/\" + str(guiche)\n",
    "    r = requests.get(url)\n",
    "    print(r.json()) \n",
    "    time.sleep(2)"
   ]
  }
 ],
 "metadata": {
  "kernelspec": {
   "display_name": "Python 3.8.5 ('env': venv)",
   "language": "python",
   "name": "python3"
  },
  "language_info": {
   "codemirror_mode": {
    "name": "ipython",
    "version": 3
   },
   "file_extension": ".py",
   "mimetype": "text/x-python",
   "name": "python",
   "nbconvert_exporter": "python",
   "pygments_lexer": "ipython3",
   "version": "3.8.5"
  },
  "orig_nbformat": 4,
  "vscode": {
   "interpreter": {
    "hash": "ed7955d3b5ab439a1bc06ab2288ad146a6d745d23e69f76e42276c0af3535e7c"
   }
  }
 },
 "nbformat": 4,
 "nbformat_minor": 2
}
