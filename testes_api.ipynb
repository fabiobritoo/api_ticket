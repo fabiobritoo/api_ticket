{
 "cells": [
  {
   "cell_type": "code",
   "execution_count": 3,
   "metadata": {},
   "outputs": [
    {
     "name": "stdout",
     "output_type": "stream",
     "text": [
      "2022-09-03 14:58:23.641908\n"
     ]
    }
   ],
   "source": [
    "import datetime\n",
    "\n",
    "print(datetime.datetime.now())"
   ]
  },
  {
   "cell_type": "code",
   "execution_count": 14,
   "metadata": {},
   "outputs": [
    {
     "data": {
      "text/html": [
       "<div>\n",
       "<style scoped>\n",
       "    .dataframe tbody tr th:only-of-type {\n",
       "        vertical-align: middle;\n",
       "    }\n",
       "\n",
       "    .dataframe tbody tr th {\n",
       "        vertical-align: top;\n",
       "    }\n",
       "\n",
       "    .dataframe thead th {\n",
       "        text-align: right;\n",
       "    }\n",
       "</style>\n",
       "<table border=\"1\" class=\"dataframe\">\n",
       "  <thead>\n",
       "    <tr style=\"text-align: right;\">\n",
       "      <th></th>\n",
       "      <th>ID</th>\n",
       "      <th>Tipo_Senha</th>\n",
       "      <th>Numeracao</th>\n",
       "      <th>Data_Emissao</th>\n",
       "      <th>Guiche</th>\n",
       "      <th>Data_Atendimento</th>\n",
       "    </tr>\n",
       "  </thead>\n",
       "  <tbody>\n",
       "    <tr>\n",
       "      <th>0</th>\n",
       "      <td>1</td>\n",
       "      <td>SP</td>\n",
       "      <td>1</td>\n",
       "      <td>2022-09-03 14:58:23.641908</td>\n",
       "      <td>1.0</td>\n",
       "      <td>2022-09-03 15:08:23.641908</td>\n",
       "    </tr>\n",
       "    <tr>\n",
       "      <th>1</th>\n",
       "      <td>2</td>\n",
       "      <td>SE</td>\n",
       "      <td>1</td>\n",
       "      <td>2022-09-03 14:58:23.641909</td>\n",
       "      <td>1.0</td>\n",
       "      <td>2022-09-03 15:08:23.641909</td>\n",
       "    </tr>\n",
       "    <tr>\n",
       "      <th>2</th>\n",
       "      <td>3</td>\n",
       "      <td>SG</td>\n",
       "      <td>1</td>\n",
       "      <td>2022-09-03 14:58:23.641910</td>\n",
       "      <td>2.0</td>\n",
       "      <td>2022-09-03 15:08:23.641910</td>\n",
       "    </tr>\n",
       "    <tr>\n",
       "      <th>3</th>\n",
       "      <td>4</td>\n",
       "      <td>SP</td>\n",
       "      <td>2</td>\n",
       "      <td>2022-09-03 14:58:23.641911</td>\n",
       "      <td>1.0</td>\n",
       "      <td>2022-09-03 15:08:23.641911</td>\n",
       "    </tr>\n",
       "    <tr>\n",
       "      <th>4</th>\n",
       "      <td>5</td>\n",
       "      <td>SE</td>\n",
       "      <td>2</td>\n",
       "      <td>2022-09-03 14:58:23.641912</td>\n",
       "      <td>2.0</td>\n",
       "      <td>2022-09-03 15:08:23.641912</td>\n",
       "    </tr>\n",
       "    <tr>\n",
       "      <th>5</th>\n",
       "      <td>6</td>\n",
       "      <td>SP</td>\n",
       "      <td>3</td>\n",
       "      <td>2022-09-03 14:58:23.641913</td>\n",
       "      <td>2.0</td>\n",
       "      <td>2022-09-03 15:08:23.641913</td>\n",
       "    </tr>\n",
       "    <tr>\n",
       "      <th>6</th>\n",
       "      <td>7</td>\n",
       "      <td>SG</td>\n",
       "      <td>2</td>\n",
       "      <td>2022-09-03 14:58:23.641914</td>\n",
       "      <td>3.0</td>\n",
       "      <td>2022-09-03 15:08:23.641914</td>\n",
       "    </tr>\n",
       "    <tr>\n",
       "      <th>7</th>\n",
       "      <td>8</td>\n",
       "      <td>SG</td>\n",
       "      <td>3</td>\n",
       "      <td>2022-09-03 14:58:23.641915</td>\n",
       "      <td>NaN</td>\n",
       "      <td>NaN</td>\n",
       "    </tr>\n",
       "    <tr>\n",
       "      <th>8</th>\n",
       "      <td>9</td>\n",
       "      <td>SP</td>\n",
       "      <td>4</td>\n",
       "      <td>2022-09-03 14:58:23.641916</td>\n",
       "      <td>NaN</td>\n",
       "      <td>NaN</td>\n",
       "    </tr>\n",
       "    <tr>\n",
       "      <th>9</th>\n",
       "      <td>10</td>\n",
       "      <td>SG</td>\n",
       "      <td>4</td>\n",
       "      <td>2022-09-03 14:58:23.641917</td>\n",
       "      <td>NaN</td>\n",
       "      <td>NaN</td>\n",
       "    </tr>\n",
       "  </tbody>\n",
       "</table>\n",
       "</div>"
      ],
      "text/plain": [
       "   ID Tipo_Senha  Numeracao                Data_Emissao  Guiche  \\\n",
       "0   1         SP          1  2022-09-03 14:58:23.641908     1.0   \n",
       "1   2         SE          1  2022-09-03 14:58:23.641909     1.0   \n",
       "2   3         SG          1  2022-09-03 14:58:23.641910     2.0   \n",
       "3   4         SP          2  2022-09-03 14:58:23.641911     1.0   \n",
       "4   5         SE          2  2022-09-03 14:58:23.641912     2.0   \n",
       "5   6         SP          3  2022-09-03 14:58:23.641913     2.0   \n",
       "6   7         SG          2  2022-09-03 14:58:23.641914     3.0   \n",
       "7   8         SG          3  2022-09-03 14:58:23.641915     NaN   \n",
       "8   9         SP          4  2022-09-03 14:58:23.641916     NaN   \n",
       "9  10         SG          4  2022-09-03 14:58:23.641917     NaN   \n",
       "\n",
       "             Data_Atendimento  \n",
       "0  2022-09-03 15:08:23.641908  \n",
       "1  2022-09-03 15:08:23.641909  \n",
       "2  2022-09-03 15:08:23.641910  \n",
       "3  2022-09-03 15:08:23.641911  \n",
       "4  2022-09-03 15:08:23.641912  \n",
       "5  2022-09-03 15:08:23.641913  \n",
       "6  2022-09-03 15:08:23.641914  \n",
       "7                         NaN  \n",
       "8                         NaN  \n",
       "9                         NaN  "
      ]
     },
     "execution_count": 14,
     "metadata": {},
     "output_type": "execute_result"
    }
   ],
   "source": [
    "pd.read_csv('atendimentos.csv')"
   ]
  },
  {
   "cell_type": "code",
   "execution_count": 12,
   "metadata": {},
   "outputs": [
    {
     "data": {
      "text/plain": [
       "4"
      ]
     },
     "execution_count": 12,
     "metadata": {},
     "output_type": "execute_result"
    }
   ],
   "source": [
    "import pandas as pd\n",
    "tipo = \"SP\"\n",
    "df = pd.read_csv('atendimentos.csv')\n",
    "last_password = int(df[df[\"Tipo_Senha\"] == tipo][\"Numeracao\"].max())\n",
    "last_password"
   ]
  },
  {
   "cell_type": "code",
   "execution_count": 13,
   "metadata": {},
   "outputs": [
    {
     "data": {
      "text/plain": [
       "'004'"
      ]
     },
     "execution_count": 13,
     "metadata": {},
     "output_type": "execute_result"
    }
   ],
   "source": [
    "str(last_password).zfill(3)"
   ]
  }
 ],
 "metadata": {
  "kernelspec": {
   "display_name": "Python 3.8.5 ('base')",
   "language": "python",
   "name": "python3"
  },
  "language_info": {
   "codemirror_mode": {
    "name": "ipython",
    "version": 3
   },
   "file_extension": ".py",
   "mimetype": "text/x-python",
   "name": "python",
   "nbconvert_exporter": "python",
   "pygments_lexer": "ipython3",
   "version": "3.8.5"
  },
  "orig_nbformat": 4,
  "vscode": {
   "interpreter": {
    "hash": "9dbc3a3b722c568a434841db69d5d33ff3d98f1d4303db58fc718049bc5d6dd0"
   }
  }
 },
 "nbformat": 4,
 "nbformat_minor": 2
}
