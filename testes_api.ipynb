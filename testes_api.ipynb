{
 "cells": [
  {
   "cell_type": "code",
   "execution_count": 29,
   "metadata": {},
   "outputs": [
    {
     "name": "stdout",
     "output_type": "stream",
     "text": [
      "Connecting to the PostgreSQL database...\n",
      "PostgreSQL database version:\n",
      "('PostgreSQL 14.4 (Ubuntu 14.4-1.pgdg20.04+1) on x86_64-pc-linux-gnu, compiled by gcc (Ubuntu 9.4.0-1ubuntu1~20.04.1) 9.4.0, 64-bit',)\n"
     ]
    }
   ],
   "source": [
    "from db.connect import connect\n",
    "\n",
    "con = connect()"
   ]
  },
  {
   "cell_type": "code",
   "execution_count": null,
   "metadata": {},
   "outputs": [],
   "source": []
  },
  {
   "cell_type": "code",
   "execution_count": null,
   "metadata": {},
   "outputs": [],
   "source": [
    "import datetime\n",
    "import pandas as pd\n",
    "import numpy as np\n",
    "print(datetime.datetime.now())"
   ]
  },
  {
   "cell_type": "code",
   "execution_count": null,
   "metadata": {},
   "outputs": [],
   "source": [
    "import random\n",
    "index = random.randint(1,3)\n",
    "opcoes = ['SG','SP','SE']\n"
   ]
  },
  {
   "cell_type": "code",
   "execution_count": null,
   "metadata": {},
   "outputs": [],
   "source": [
    "import requests\n",
    "import random\n",
    "import time\n",
    "import tqdm\n",
    "\n",
    "\n",
    "opcoes = ['SG','SP','SE']\n",
    "\n",
    "for i in tqdm.tqdm(range(0,10)):\n",
    "    index = random.randint(0,2)\n",
    "    url = \"http://localhost:8000/senha/\" + opcoes[index]\n",
    "    r = requests.get(url)\n",
    "    time.sleep(index)"
   ]
  },
  {
   "cell_type": "code",
   "execution_count": null,
   "metadata": {},
   "outputs": [],
   "source": [
    "import requests\n",
    "import random\n",
    "import time\n",
    "import tqdm\n",
    "\n",
    "\n",
    "for i in range(0,10):\n",
    "    guiche = random.randint(1,5)\n",
    "    url = \"http://localhost:8000/chamada/\" + str(guiche)\n",
    "    r = requests.get(url)\n",
    "    print(r.json())\n",
    "    time.sleep(2)"
   ]
  },
  {
   "cell_type": "code",
   "execution_count": null,
   "metadata": {},
   "outputs": [],
   "source": []
  },
  {
   "cell_type": "code",
   "execution_count": null,
   "metadata": {},
   "outputs": [],
   "source": [
    "df = pd.read_csv('atendimentos.csv')\n",
    "df"
   ]
  },
  {
   "cell_type": "code",
   "execution_count": null,
   "metadata": {},
   "outputs": [],
   "source": [
    "df = pd.read_csv(\"atendimentos.csv\")\n",
    "max_id = df.ID.max()\n",
    "if np.isnan(df.ID.max()):\n",
    "    max_id = 0\n",
    "\n",
    "df2 = pd.DataFrame(\n",
    "    [[\n",
    "        max_id + 1\n",
    "        ,'SP'\n",
    "        ,1\n",
    "        ,'codigo_senha'\n",
    "        , datetime.datetime.now()\n",
    "        ]]\n",
    "    , columns=['ID','Tipo_Senha','Numeracao','Codigo_Senha','Data_Emissao'])\n",
    "\n",
    "df = pd.concat([df,df2]).reset_index(drop=True)"
   ]
  },
  {
   "cell_type": "code",
   "execution_count": null,
   "metadata": {},
   "outputs": [],
   "source": [
    "df[~df[\"Data_Atendimento\"].isna()].sort_values(by = \"Data_Atendimento\").tail(1)"
   ]
  },
  {
   "cell_type": "code",
   "execution_count": null,
   "metadata": {},
   "outputs": [],
   "source": [
    "df.loc[df.ID==8,\"Guiche\"] = 1"
   ]
  },
  {
   "cell_type": "code",
   "execution_count": null,
   "metadata": {},
   "outputs": [],
   "source": [
    "df.loc[df.ID==8,\"Data_Atendimento\"] = datetime.datetime.now()"
   ]
  },
  {
   "cell_type": "code",
   "execution_count": null,
   "metadata": {},
   "outputs": [],
   "source": [
    "df"
   ]
  },
  {
   "cell_type": "code",
   "execution_count": null,
   "metadata": {},
   "outputs": [],
   "source": [
    "df[df.ID == 8]"
   ]
  },
  {
   "cell_type": "code",
   "execution_count": null,
   "metadata": {},
   "outputs": [],
   "source": [
    "ultimo_chamado = df[~df[\"Data_Atendimento\"].isna()].sort_values(by = \"Data_Atendimento\").tail(1)\n",
    "if len(ultimo_chamado) == 0:\n",
    "    prioridade = ['SP','SE','SG']\n",
    "else:\n",
    "    ultimo_tipo_senha = ultimo_chamado[\"Tipo_Senha\"].values[0]\n",
    "    if (ultimo_tipo_senha == 'SP'):\n",
    "        prioridade = ['SE','SG','SP']\n",
    "    else:\n",
    "        prioridade = ['SP','SE','SG']\n",
    "\n",
    "### Checar se tem algum da prioridade\n",
    "prioridade"
   ]
  },
  {
   "cell_type": "code",
   "execution_count": null,
   "metadata": {},
   "outputs": [],
   "source": [
    "chamados_esperando = df[df[\"Data_Atendimento\"].isna()].sort_values(by = \"Data_Emissao\")\n",
    "for tipo in prioridade:\n",
    "    chamados_prioritarios = chamados_esperando[chamados_esperando[\"Tipo_Senha\"] == tipo].head(1)\n",
    "    if (len(chamados_prioritarios) != 0):\n",
    "        id_chamado = chamados_prioritarios.ID.values[0]\n",
    "        break\n",
    "\n",
    "id_chamado"
   ]
  },
  {
   "cell_type": "code",
   "execution_count": null,
   "metadata": {},
   "outputs": [],
   "source": [
    "chamados_esperando = df[df[\"Data_Atendimento\"].isna()].sort_values(by = \"Data_Emissao\")\n",
    "chamados_prioritarios = chamados_esperando[chamados_esperando[\"Tipo_Senha\"] == prioridade]\n",
    "if (len(chamados_prioritarios) != 0):\n",
    "    proximo = chamados_prioritarios.head(1)"
   ]
  },
  {
   "cell_type": "code",
   "execution_count": null,
   "metadata": {},
   "outputs": [],
   "source": [
    "if ultimo_tipo_senha == \"SP\":\n",
    "    "
   ]
  },
  {
   "cell_type": "code",
   "execution_count": null,
   "metadata": {},
   "outputs": [],
   "source": [
    "ultimo_tipo_senha"
   ]
  },
  {
   "cell_type": "code",
   "execution_count": null,
   "metadata": {},
   "outputs": [],
   "source": [
    "ultimo_tipo_senha"
   ]
  },
  {
   "cell_type": "code",
   "execution_count": null,
   "metadata": {},
   "outputs": [],
   "source": [
    "### Análise se o pedido de senha foi feito fora do horário do expediente\n",
    "inicio_expediente = pd.to_datetime(datetime.datetime.now().replace(hour = 7, minute = 0, second = 0, microsecond = 0))\n",
    "fim_expediente = pd.to_datetime(datetime.datetime.now().replace(hour = 17, minute = 0, second = 0, microsecond = 0))\n",
    "\n",
    "# horario_atual = pd.to_datetime(datetime.datetime.now())\n",
    "horario_atual = pd.to_datetime(datetime.datetime.now().replace(hour = 6))\n",
    "\n",
    "if (horario_atual < inicio_expediente) or (horario_atual > fim_expediente):\n",
    "    print({\"senha\": \"Fora do Expediênte de Trabalho\"})"
   ]
  },
  {
   "cell_type": "code",
   "execution_count": null,
   "metadata": {},
   "outputs": [],
   "source": [
    "print(a)"
   ]
  },
  {
   "cell_type": "code",
   "execution_count": null,
   "metadata": {},
   "outputs": [],
   "source": [
    "horario_atual"
   ]
  },
  {
   "cell_type": "code",
   "execution_count": null,
   "metadata": {},
   "outputs": [],
   "source": [
    "inicio_expediente"
   ]
  },
  {
   "cell_type": "markdown",
   "metadata": {},
   "source": []
  },
  {
   "cell_type": "code",
   "execution_count": null,
   "metadata": {},
   "outputs": [],
   "source": [
    "def ultima_senha(tipo, inicio_expediente):\n",
    "    df = pd.read_csv(\"atendimentos.csv\")\n",
    "\n",
    "    ultimo_registro = df[df[\"Tipo_Senha\"] == tipo].tail(1)\n",
    "    data_ultimo_registro = pd.to_datetime(ultimo_registro[\"Data_Emissao\"]).values[0]\n",
    "\n",
    "    if data_ultimo_registro < inicio_expediente:\n",
    "        last_password = 0\n",
    "    else:\n",
    "        last_password = int(ultimo_registro[\"Numeracao\"])\n",
    "\n",
    "    return last_password"
   ]
  },
  {
   "cell_type": "code",
   "execution_count": null,
   "metadata": {},
   "outputs": [],
   "source": [
    "df"
   ]
  },
  {
   "cell_type": "code",
   "execution_count": null,
   "metadata": {},
   "outputs": [],
   "source": [
    "df = df.append({\n",
    "            'ID' : max_id + 1\n",
    "            ,'Tipo_Senha' : \"SP\"\n",
    "            ,'Numeracao' : 5\n",
    "            , 'Data_Emissao': datetime.datetime.now()\n",
    "            } , \n",
    "            ignore_index=True)"
   ]
  },
  {
   "cell_type": "code",
   "execution_count": null,
   "metadata": {},
   "outputs": [],
   "source": [
    "df.to_csv(\"atendimentos.csv\")"
   ]
  },
  {
   "cell_type": "markdown",
   "metadata": {},
   "source": []
  },
  {
   "cell_type": "code",
   "execution_count": null,
   "metadata": {},
   "outputs": [],
   "source": [
    "pd.read_csv('atendimentos.csv').tail()"
   ]
  },
  {
   "cell_type": "code",
   "execution_count": null,
   "metadata": {},
   "outputs": [],
   "source": [
    "pd.to_datetime(ultimo_registro[\"Data_Emissao\"]).values[0] < pd.to_datetime(inicio_expediente)"
   ]
  },
  {
   "cell_type": "code",
   "execution_count": null,
   "metadata": {},
   "outputs": [],
   "source": []
  },
  {
   "cell_type": "code",
   "execution_count": null,
   "metadata": {},
   "outputs": [],
   "source": [
    "data_emissao"
   ]
  },
  {
   "cell_type": "code",
   "execution_count": null,
   "metadata": {},
   "outputs": [],
   "source": [
    "str(last_password).zfill(3)"
   ]
  }
 ],
 "metadata": {
  "kernelspec": {
   "display_name": "Python 3.8.5 ('env': venv)",
   "language": "python",
   "name": "python3"
  },
  "language_info": {
   "codemirror_mode": {
    "name": "ipython",
    "version": 3
   },
   "file_extension": ".py",
   "mimetype": "text/x-python",
   "name": "python",
   "nbconvert_exporter": "python",
   "pygments_lexer": "ipython3",
   "version": "3.8.5"
  },
  "orig_nbformat": 4,
  "vscode": {
   "interpreter": {
    "hash": "ed7955d3b5ab439a1bc06ab2288ad146a6d745d23e69f76e42276c0af3535e7c"
   }
  }
 },
 "nbformat": 4,
 "nbformat_minor": 2
}
