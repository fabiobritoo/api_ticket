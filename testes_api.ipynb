{
 "cells": [
  {
   "cell_type": "code",
   "execution_count": 3,
   "metadata": {},
   "outputs": [
    {
     "name": "stderr",
     "output_type": "stream",
     "text": [
      "100%|██████████| 10/10 [00:16<00:00,  1.67s/it]\n"
     ]
    }
   ],
   "source": [
    "import requests\n",
    "import random\n",
    "import time\n",
    "import tqdm\n",
    "\n",
    "env = ['http://localhost:8000/', 'https://ticketprint.herokuapp.com/']\n",
    "\n",
    "env = env[1]\n",
    "\n",
    "opcoes = ['SG','SP','SE']\n",
    "\n",
    "for i in tqdm.tqdm(range(0,10)):\n",
    "    index = random.randint(0,2)\n",
    "    url = env + \"senha/\" + opcoes[index]\n",
    "    r = requests.get(url)\n",
    "    time.sleep(index)"
   ]
  },
  {
   "cell_type": "code",
   "execution_count": 4,
   "metadata": {},
   "outputs": [
    {
     "name": "stdout",
     "output_type": "stream",
     "text": [
      "{'senha': 'SP002', 'guiche': '3'}\n",
      "{'senha': 'SE002', 'guiche': '5'}\n",
      "{'senha': 'SP003', 'guiche': '2'}\n",
      "{'senha': 'SE003', 'guiche': '5'}\n",
      "{'senha': 'SP004', 'guiche': '4'}\n",
      "{'senha': 'SE004', 'guiche': '1'}\n",
      "{'senha': 'SP005', 'guiche': '1'}\n",
      "{'senha': 'SG002', 'guiche': '1'}\n",
      "{'senha': 'SG003', 'guiche': '2'}\n",
      "{'senha': 'SG004', 'guiche': '4'}\n",
      "{'senha': 'Não há senhas a serem chamadas'}\n"
     ]
    }
   ],
   "source": [
    "import requests\n",
    "import random\n",
    "import time\n",
    "import tqdm\n",
    "\n",
    "\n",
    "for i in range(0,11):\n",
    "    guiche = random.randint(1,5)\n",
    "    url = env + \"chamada/\" + str(guiche)\n",
    "    r = requests.get(url)\n",
    "    print(r.json()) \n",
    "    time.sleep(2)"
   ]
  }
 ],
 "metadata": {
  "kernelspec": {
   "display_name": "Python 3.8.5 ('env': venv)",
   "language": "python",
   "name": "python3"
  },
  "language_info": {
   "codemirror_mode": {
    "name": "ipython",
    "version": 3
   },
   "file_extension": ".py",
   "mimetype": "text/x-python",
   "name": "python",
   "nbconvert_exporter": "python",
   "pygments_lexer": "ipython3",
   "version": "3.8.5"
  },
  "orig_nbformat": 4,
  "vscode": {
   "interpreter": {
    "hash": "ed7955d3b5ab439a1bc06ab2288ad146a6d745d23e69f76e42276c0af3535e7c"
   }
  }
 },
 "nbformat": 4,
 "nbformat_minor": 2
}
