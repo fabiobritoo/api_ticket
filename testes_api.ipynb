{
 "cells": [
  {
   "cell_type": "code",
   "execution_count": 76,
   "metadata": {},
   "outputs": [
    {
     "name": "stderr",
     "output_type": "stream",
     "text": [
      "100%|██████████| 10/10 [00:35<00:00,  3.59s/it]\n"
     ]
    }
   ],
   "source": [
    "import requests\n",
    "import random\n",
    "import time\n",
    "import tqdm\n",
    "\n",
    "\n",
    "opcoes = ['SG','SP','SE']\n",
    "\n",
    "for i in tqdm.tqdm(range(0,10)):\n",
    "    index = random.randint(0,2)\n",
    "    url = \"http://localhost:8000/senha/\" + opcoes[index]\n",
    "    r = requests.get(url)\n",
    "    time.sleep(index)"
   ]
  },
  {
   "cell_type": "code",
   "execution_count": 77,
   "metadata": {},
   "outputs": [
    {
     "name": "stdout",
     "output_type": "stream",
     "text": [
      "{'senha': 'SP004', 'guiche': '3'}\n",
      "{'senha': 'SE005', 'guiche': '1'}\n",
      "{'senha': 'SP005', 'guiche': '5'}\n",
      "{'senha': 'SE006', 'guiche': '5'}\n",
      "{'senha': 'SP006', 'guiche': '1'}\n",
      "{'senha': 'SG005', 'guiche': '4'}\n",
      "{'senha': 'SP007', 'guiche': '3'}\n",
      "{'senha': 'SG006', 'guiche': '5'}\n",
      "{'senha': 'SP008', 'guiche': '4'}\n",
      "{'senha': 'SG007', 'guiche': '3'}\n",
      "{'senha': 'Não há senhas a serem chamadas'}\n"
     ]
    }
   ],
   "source": [
    "import requests\n",
    "import random\n",
    "import time\n",
    "import tqdm\n",
    "\n",
    "\n",
    "for i in range(0,11):\n",
    "    guiche = random.randint(1,5)\n",
    "    url = \"http://localhost:8000/chamada/\" + str(guiche)\n",
    "    r = requests.get(url)\n",
    "    print(r.json())\n",
    "    time.sleep(2)"
   ]
  }
 ],
 "metadata": {
  "kernelspec": {
   "display_name": "Python 3.8.5 ('env': venv)",
   "language": "python",
   "name": "python3"
  },
  "language_info": {
   "codemirror_mode": {
    "name": "ipython",
    "version": 3
   },
   "file_extension": ".py",
   "mimetype": "text/x-python",
   "name": "python",
   "nbconvert_exporter": "python",
   "pygments_lexer": "ipython3",
   "version": "3.8.5"
  },
  "orig_nbformat": 4,
  "vscode": {
   "interpreter": {
    "hash": "ed7955d3b5ab439a1bc06ab2288ad146a6d745d23e69f76e42276c0af3535e7c"
   }
  }
 },
 "nbformat": 4,
 "nbformat_minor": 2
}
