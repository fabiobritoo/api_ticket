{
 "cells": [
  {
   "cell_type": "code",
   "execution_count": 6,
   "metadata": {},
   "outputs": [
    {
     "name": "stdout",
     "output_type": "stream",
     "text": [
      "Connecting to the PostgreSQL database...\n",
      "PostgreSQL database version:\n",
      "('PostgreSQL 14.5 on x86_64-pc-linux-gnu, compiled by gcc (GCC) 4.8.5 20150623 (Red Hat 4.8.5-44), 64-bit',)\n"
     ]
    }
   ],
   "source": [
    "from db.connect import connect\n",
    "con = connect()"
   ]
  },
  {
   "cell_type": "code",
   "execution_count": 10,
   "metadata": {},
   "outputs": [
    {
     "data": {
      "text/plain": [
       "numpy.datetime64('2022-09-07T01:12:53.247825000')"
      ]
     },
     "execution_count": 10,
     "metadata": {},
     "output_type": "execute_result"
    }
   ],
   "source": [
    "import pandas as pd\n",
    "import warnings\n",
    "warnings.filterwarnings(\"ignore\")\n",
    "\n",
    "df = pd.read_sql_query('select * from \"atendimentos\"',con=con)\n",
    "ultimo_registro = df[df[\"tipo_senha\"] == \"SP\"].tail(1)\n",
    "ultimo_registro\n",
    "data_ultimo_registro = pd.to_datetime(ultimo_registro[\"data_emissao\"]).values[0]\n",
    "data_ultimo_registro"
   ]
  },
  {
   "cell_type": "code",
   "execution_count": 19,
   "metadata": {},
   "outputs": [
    {
     "data": {
      "text/plain": [
       "Timestamp('2022-09-07 01:12:53.247825+0000', tz='UTC')"
      ]
     },
     "execution_count": 19,
     "metadata": {},
     "output_type": "execute_result"
    }
   ],
   "source": [
    "from datetime import datetime, timedelta"
   ]
  },
  {
   "cell_type": "code",
   "execution_count": 30,
   "metadata": {},
   "outputs": [
    {
     "data": {
      "text/plain": [
       "Timestamp('2022-09-06 22:12:53.247825-0300', tz='America/Recife')"
      ]
     },
     "execution_count": 30,
     "metadata": {},
     "output_type": "execute_result"
    }
   ],
   "source": [
    "pd.Timestamp(data_ultimo_registro).replace(tzinfo=datetime.timezone.utc).astimezone(pytz.timezone('America/Recife'))"
   ]
  },
  {
   "cell_type": "code",
   "execution_count": 26,
   "metadata": {},
   "outputs": [],
   "source": [
    "import pytz"
   ]
  },
  {
   "cell_type": "code",
   "execution_count": 32,
   "metadata": {},
   "outputs": [
    {
     "data": {
      "text/plain": [
       "datetime.datetime(2022, 9, 6, 22, 40, 47, 614611, tzinfo=<DstTzInfo 'America/Recife' -03-1 day, 21:00:00 STD>)"
      ]
     },
     "execution_count": 32,
     "metadata": {},
     "output_type": "execute_result"
    }
   ],
   "source": [
    "datetime.datetime.now(pytz.timezone('America/Recife'))"
   ]
  },
  {
   "cell_type": "code",
   "execution_count": 12,
   "metadata": {},
   "outputs": [
    {
     "data": {
      "text/plain": [
       "Timestamp('2022-09-07 07:00:00+0000', tz='UTC')"
      ]
     },
     "execution_count": 12,
     "metadata": {},
     "output_type": "execute_result"
    }
   ],
   "source": [
    "pd.to_datetime(datetime.datetime.now(datetime.timezone.utc).replace(hour = 7, minute = 0, second = 0, microsecond = 0))"
   ]
  },
  {
   "cell_type": "code",
   "execution_count": 3,
   "metadata": {},
   "outputs": [
    {
     "name": "stderr",
     "output_type": "stream",
     "text": [
      "100%|██████████| 10/10 [00:16<00:00,  1.67s/it]\n"
     ]
    }
   ],
   "source": [
    "import requests\n",
    "import random\n",
    "import time\n",
    "import tqdm\n",
    "\n",
    "env = ['http://localhost:8000/', 'https://ticketprint.herokuapp.com/']\n",
    "\n",
    "env = env[1]\n",
    "\n",
    "opcoes = ['SG','SP','SE']\n",
    "\n",
    "for i in tqdm.tqdm(range(0,10)):\n",
    "    index = random.randint(0,2)\n",
    "    url = env + \"senha/\" + opcoes[index]\n",
    "    r = requests.get(url)\n",
    "    time.sleep(index)"
   ]
  },
  {
   "cell_type": "code",
   "execution_count": 33,
   "metadata": {},
   "outputs": [
    {
     "name": "stdout",
     "output_type": "stream",
     "text": [
      "{'senha': 'SP003', 'data_atendimento': '06/09/2022, 22:51:03', 'guiche': '3'}\n",
      "{'senha': 'SP004', 'data_atendimento': '06/09/2022, 22:51:09', 'guiche': '1'}\n",
      "{'senha': 'Não há senhas a serem chamadas'}\n",
      "{'senha': 'Não há senhas a serem chamadas'}\n"
     ]
    }
   ],
   "source": [
    "import requests\n",
    "import random\n",
    "import time\n",
    "import tqdm\n",
    "\n",
    "env = ['http://localhost:8000/', 'https://ticketprint.herokuapp.com/']\n",
    "\n",
    "env = env[0]\n",
    "\n",
    "for i in range(0,11):\n",
    "    guiche = random.randint(1,5)\n",
    "    url = env + \"chamada/\" + str(guiche)\n",
    "    r = requests.get(url)\n",
    "    print(r.json()) \n",
    "    time.sleep(2)"
   ]
  }
 ],
 "metadata": {
  "kernelspec": {
   "display_name": "Python 3.8.5 ('env': venv)",
   "language": "python",
   "name": "python3"
  },
  "language_info": {
   "codemirror_mode": {
    "name": "ipython",
    "version": 3
   },
   "file_extension": ".py",
   "mimetype": "text/x-python",
   "name": "python",
   "nbconvert_exporter": "python",
   "pygments_lexer": "ipython3",
   "version": "3.8.5"
  },
  "orig_nbformat": 4,
  "vscode": {
   "interpreter": {
    "hash": "ed7955d3b5ab439a1bc06ab2288ad146a6d745d23e69f76e42276c0af3535e7c"
   }
  }
 },
 "nbformat": 4,
 "nbformat_minor": 2
}
